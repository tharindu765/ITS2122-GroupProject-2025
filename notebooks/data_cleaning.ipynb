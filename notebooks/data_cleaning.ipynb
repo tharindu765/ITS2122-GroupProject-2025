{
 "cells": [
  {
   "cell_type": "code",
   "execution_count": null,
   "id": "0131e8fd",
   "metadata": {},
   "outputs": [],
   "source": [
    "\"\"\"\n",
    "# ITS 2122 - Phase 1: Data Cleaning\n",
    "**Author:** tharindu randika  \n",
    "**Date:** 2025-08-12  \n",
    "**Purpose:** Clean and preprocess the Online Retail II dataset\n",
    "\n",
    "## Overview\n",
    "This notebook handles data cleaning tasks including:\n",
    "- Removing duplicates and missing values\n",
    "- Handling cancellations and zero prices  \n",
    "- Creating derived features\n",
    "\"\"\""
   ]
  },
  {
   "cell_type": "code",
   "execution_count": 1,
   "execution_count": null,
   "id": "3f0661cd",
   "metadata": {},
   "outputs": [],
   "source": [
    "import pandas as pd\n",
    "import numpy as np\n",
    "import matplotlib.pyplot as plt\n",
    "import seaborn as sns\n",
    "import warnings\n",
    "warnings.filterwarnings('ignore')"
   ]
<<<<<<< Updated upstream
=======
  },
  {
   "cell_type": "code",
   "execution_count": null,
   "id": "fee239ec",
   "metadata": {},
   "outputs": [],
   "source": [
    "df = pd.read_csv('../data/raw/online_retail.csv', encoding='ISO-8859-1')\n",
    "df.head()"
   ]
  },
  {
   "cell_type": "code",
   "execution_count": null,
   "id": "feddd5ad",
   "metadata": {},
   "outputs": [],
   "source": [
    "df.info()"
   ]
  },
  {
   "cell_type": "code",
   "execution_count": null,
   "id": "bc92b981",
   "metadata": {},
   "outputs": [],
   "source": [
    "df.describe(include='all')"
   ]
  },
  {
   "cell_type": "code",
   "execution_count": null,
   "id": "2d5f89f6",
   "metadata": {},
   "outputs": [],
   "source": [
    "df.isnull().sum()"
   ]
  },
  {
   "cell_type": "code",
   "execution_count": null,
   "id": "269759bc",
   "metadata": {},
   "outputs": [],
   "source": [
    "len(df),df.shape"
   ]
  },
  {
   "cell_type": "code",
   "execution_count": null,
   "id": "b202d225",
   "metadata": {},
   "outputs": [],
   "source": [
    "# rename to friendly names (adjust to actual column names you see)\n",
    "df = df.rename(columns={\n",
    "    'Invoice': 'InvoiceNo',\n",
    "    'Price': 'UnitPrice',\n",
    "    'Customer ID': 'CustomerID',\n",
    "    'InvoiceDate': 'InvoiceDate' \n",
    "})\n",
    "\n",
    "df.head()"
   ]
  },
  {
   "cell_type": "code",
   "execution_count": null,
   "id": "2a7f1be0",
   "metadata": {},
   "outputs": [],
   "source": [
    "#drop rows with missing values in key columns\n",
    "print(\"dup count:\", df.duplicated().sum())\n",
    "df = df.drop_duplicates()"
   ]
  },
  {
   "cell_type": "code",
   "execution_count": null,
   "id": "9275b609",
   "metadata": {},
   "outputs": [],
   "source": [
    "# ensure InvoiceNo is string\n",
    "df['InvoiceNo'] = df['InvoiceNo'].astype(str)\n",
    "\n",
    "cancel_mask = df['InvoiceNo'].str.startswith('C', na=False)\n",
    "cancelled = df[cancel_mask]       # save for audit\n",
    "df = df[~cancel_mask]              # keep only non-cancelled\n",
    "print(\"Cancelled invoices removed:\", len(cancelled))"
   ]
  },
  {
   "cell_type": "code",
   "execution_count": null,
   "id": "915059ae",
   "metadata": {},
   "outputs": [],
   "source": [
    "# check counts first\n",
    "print(\"qty<=0 count:\", (df['Quantity'] <= 0).sum())\n",
    "print(\"price==0 count:\", (df['UnitPrice'] == 0).sum())\n",
    "\n",
    "# remove them\n",
    "removed_nonpos = df[(df['Quantity'] <= 0) | (df['UnitPrice'] <= 0)]\n",
    "print(removed_nonpos)\n",
    "df = df[(df['Quantity'] > 0) & (df['UnitPrice'] > 0)]"
   ]
  },
  {
   "cell_type": "code",
   "execution_count": null,
   "id": "95980f37",
   "metadata": {},
   "outputs": [],
   "source": [
    "stock_counts = df['StockCode'].value_counts().head(50)\n",
    "print(stock_counts)\n",
    "\n",
    "# heuristic filter examples:\n",
    "non_product_pattern = r'POST|POSTAGE|POSTAGE|ADJUST|BANK|M|CARR|DOT'\n",
    "mask_nonprod = df['StockCode'].astype(str).str.contains(non_product_pattern, case=False, na=False)\n",
    "df_nonprod = df[mask_nonprod]   # save for audit\n",
    "df = df[~mask_nonprod]"
   ]
  },
  {
   "cell_type": "code",
   "execution_count": null,
   "id": "390b6324",
   "metadata": {},
   "outputs": [],
   "source": [
    "# create revenue column\n",
    "df['TotalPrice'] = df['Quantity'] * df['UnitPrice']\n",
    "\n",
    "# parse invoice date\n",
    "df['InvoiceDate'] = pd.to_datetime(df['InvoiceDate'], dayfirst=True, errors='coerce')\n",
    "\n",
    "# create Year, Month, DayOfWeek, Hour columns\n",
    "df['Year'] = df['InvoiceDate'].dt.year\n",
    "df['Month'] = df['InvoiceDate'].dt.month\n",
    "df['DayOfWeek'] = df['InvoiceDate'].dt.day_name()\n",
    "df['Hour'] = df['InvoiceDate'].dt.hour\n",
    "\n",
    "df.head()"
   ]
  },
  {
   "cell_type": "code",
   "execution_count": null,
   "id": "5ed52ef4",
   "metadata": {},
   "outputs": [],
   "source": [
    "print(\"missing CustomerID before:\", df['CustomerID'].isnull().sum())\n",
    "\n",
    "# Option 1: drop rows missing CustomerID (needed for RFM later)\n",
    "df_with_cust = df.dropna(subset=['CustomerID']).copy()\n",
    "# convert to int\n",
    "df_with_cust['CustomerID'] = df_with_cust['CustomerID'].astype(int)\n",
    "print(\"missing CustomerID after:\", df_with_cust['CustomerID'].isnull().sum())"
   ]
  },
  {
   "cell_type": "code",
   "execution_count": null,
   "id": "93f3b585",
   "metadata": {},
   "outputs": [],
   "source": [
    "# combine all removed rows into one DataFrame for the report\n",
    "removed_rows = pd.concat([cancelled, removed_nonpos, df_nonprod]).drop_duplicates()\n",
    "removed_rows.to_csv('../data/processed/removed_rows_phase1.csv', index=False)\n",
    "\n",
    "# final cleaned data\n",
    "df.to_csv('../data/processed/online_retail_clean_phase1.csv', index=False)\n",
    "df_with_cust.to_csv('../data/processed/online_retail_clean_with_customerids.csv', index=False)\n"
   ]
  }
 ],
 "metadata": {
  "kernelspec": {
   "display_name": "venv",
   "language": "python",
   "name": "python3"
  },
  "language_info": {
   "codemirror_mode": {
    "name": "ipython",
    "version": 3
   },
   "file_extension": ".py",
   "mimetype": "text/x-python",
   "name": "python",
   "nbconvert_exporter": "python",
   "pygments_lexer": "ipython3",
   "version": "3.13.5"
  }
 },
 "nbformat": 4,
 "nbformat_minor": 5
}
