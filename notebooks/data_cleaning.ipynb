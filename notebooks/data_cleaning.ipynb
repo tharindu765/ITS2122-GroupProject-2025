{
 "cells": [
  {
   "cell_type": "code",
   "execution_count": 2,
   "id": "0131e8fd",
   "metadata": {},
   "outputs": [
    {
     "data": {
      "text/plain": [
       "'\\n# ITS 2122 - Phase 1: Data Cleaning\\n**Author:** tharindu randika  \\n**Date:** 2025-08-12  \\n**Purpose:** Clean and preprocess the Online Retail II dataset\\n\\n## Overview\\nThis notebook handles data cleaning tasks including:\\n- Removing duplicates and missing values\\n- Handling cancellations and zero prices  \\n- Creating derived features\\n'"
      ]
     },
     "execution_count": 2,
     "metadata": {},
     "output_type": "execute_result"
    }
   ],
   "source": [
    "\"\"\"\n",
    "# ITS 2122 - Phase 1: Data Cleaning\n",
    "**Author:** tharindu randika  \n",
    "**Date:** 2025-08-12  \n",
    "**Purpose:** Clean and preprocess the Online Retail II dataset\n",
    "\n",
    "## Overview\n",
    "This notebook handles data cleaning tasks including:\n",
    "- Removing duplicates and missing values\n",
    "- Handling cancellations and zero prices  \n",
    "- Creating derived features\n",
    "\"\"\""
   ]
  },
  {
   "cell_type": "code",
   "execution_count": 1,
   "id": "3f0661cd",
   "metadata": {},
   "outputs": [],
   "source": [
    "import pandas as pd\n",
    "import numpy as np\n",
    "import matplotlib.pyplot as plt\n",
    "import seaborn as sns\n",
    "import warnings\n",
    "warnings.filterwarnings('ignore')"
   ]
  }
 ],
 "metadata": {
  "kernelspec": {
   "display_name": "venv",
   "language": "python",
   "name": "python3"
  },
  "language_info": {
   "codemirror_mode": {
    "name": "ipython",
    "version": 3
   },
   "file_extension": ".py",
   "mimetype": "text/x-python",
   "name": "python",
   "nbconvert_exporter": "python",
   "pygments_lexer": "ipython3",
   "version": "3.13.5"
  }
 },
 "nbformat": 4,
 "nbformat_minor": 5
}
