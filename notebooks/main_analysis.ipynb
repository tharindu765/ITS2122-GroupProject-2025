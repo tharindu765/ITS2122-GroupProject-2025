{
 "cells": [
  {
   "cell_type": "code",
   "execution_count": null,
   "id": "bf77c6b1",
   "metadata": {},
   "outputs": [],
   "source": [
    "\"\"\"\n",
    "# ITS 2122 - Phase 4: Strategic Recommendations\n",
    "**Author:** Sherul Dhanushka  \n",
    "**Date:** 2025-08-25  \n",
    "**Purpose:** Translate RFM customer segmentation results into actionable business strategies, \n",
    "with a focus on differentiating between wholesalers and retail customers.\n",
    "\n",
    "## Overview\n",
    "This notebook builds upon the RFM segmentation analysis and investigates the wholesaler hypothesis:\n",
    "- Analyze the distribution of Monetary values per customer to detect skewness and potential wholesaler clusters\n",
    "- Use visualizations (histograms, boxplots, log-transforms) to highlight differences between low-value retail customers and high-value wholesalers\n",
    "- Provide strategic recommendations for wholesalers and retail segments\n",
    "- Support marketing, customer relationship management, and inventory planning decisions with data-driven insights\n",
    "\"\"\"\n"
   ]
  },
  {
   "cell_type": "code",
   "execution_count": null,
   "id": "09478a83",
   "metadata": {},
   "outputs": [],
   "source": [
    "import pandas as pd\n",
    "import matplotlib.pyplot as plt\n",
    "import seaborn as sns\n",
    "from pathlib import Path\n",
    "\n",
    "sns.set(style=\"whitegrid\")\n",
    "\n",
    "# Load the RFM dataset from Phase 3\n",
    "RFM_PATH = Path(\"../data/processed/phase3_rfm_segments.csv\")\n",
    "if not RFM_PATH.exists():\n",
    "    raise FileNotFoundError(f\"{RFM_PATH} not found. Run Phase 3 first.\")\n",
    "\n",
    "rfm = pd.read_csv(RFM_PATH)\n",
    "\n",
    "# Also load the cleaned full dataset for customer-level revenue checks\n",
    "DATA_PATH = Path(\"../data/processed/online_retail_clean_with_customerids.csv\")\n",
    "df = pd.read_csv(DATA_PATH)\n",
    "\n",
    "# Convert dates to datetime\n",
    "df['InvoiceDate'] = pd.to_datetime(df['InvoiceDate'], errors='coerce')\n",
    "\n",
    "print(\"RFM shape:\", rfm.shape)\n",
    "rfm.head()"
   ]
  },
  {
   "cell_type": "code",
   "execution_count": null,
   "id": "4f35f8b4",
   "metadata": {},
   "outputs": [],
   "source": [
    "# Summary of segments\n",
    "segment_summary = rfm.groupby('Segment').agg({\n",
    "    'CustomerID': 'count',\n",
    "    'Monetary': 'mean',\n",
    "    'Frequency': 'mean',\n",
    "    'Recency': 'mean'\n",
    "}).rename(columns={\n",
    "    'CustomerID': 'Num_Customers',\n",
    "    'Monetary': 'Avg_Spend',\n",
    "    'Frequency': 'Avg_Orders',\n",
    "    'Recency': 'Avg_Recency_Days'\n",
    "}).reset_index()\n",
    "\n",
    "segment_summary\n"
   ]
  },
  {
   "cell_type": "code",
   "execution_count": null,
   "id": "b3368ce2",
   "metadata": {},
   "outputs": [],
   "source": [
    "# Step 1: Calculate total spend per customer\n",
    "customer_spend = df.groupby('CustomerID')['TotalPrice'].sum()\n",
    "\n",
    "# Step 2: Visualize distribution to spot wholesalers (high spenders)\n",
    "plt.figure(figsize=(10,6))\n",
    "sns.histplot(customer_spend, bins=100, kde=True)\n",
    "plt.xlim(0, 10000)  # zoom in on most customers\n",
    "plt.title(\"Distribution of Customer Spend (£)\")\n",
    "plt.xlabel(\"Total Spend\")\n",
    "plt.ylabel(\"Number of Customers\")\n",
    "plt.show()"
   ]
  },
  {
   "cell_type": "code",
   "execution_count": null,
   "id": "f60c1906",
   "metadata": {},
   "outputs": [],
   "source": [
    "# Rule of thumb: anyone spending > £5000 is likely a wholesaler\n",
    "wholesaler_threshold = 5000\n",
    "wholesalers = customer_spend[customer_spend > wholesaler_threshold]\n",
    "retail_customers = customer_spend[customer_spend <= wholesaler_threshold]\n",
    "\n",
    "print(f\"Wholesalers count: {len(wholesalers)}\")\n",
    "print(f\"Retail customers count: {len(retail_customers)}\")"
   ]
  },
  {
   "cell_type": "code",
   "execution_count": null,
   "id": "8719d5b1",
   "metadata": {},
   "outputs": [],
   "source": [
    "# Merge spend back with RFM segments\n",
    "rfm_with_spend = rfm.merge(customer_spend.rename(\"TotalSpend\"), on=\"CustomerID\")\n",
    "\n",
    "# Tag wholesaler vs retail\n",
    "rfm_with_spend['CustomerType'] = rfm_with_spend['TotalSpend'].apply(\n",
    "    lambda x: 'Wholesaler' if x > wholesaler_threshold else 'Retail'\n",
    ")\n",
    "\n",
    "# Compare average metrics\n",
    "behavior_summary = rfm_with_spend.groupby('CustomerType').agg({\n",
    "    'Monetary': 'mean',\n",
    "    'Frequency': 'mean',\n",
    "    'Recency': 'mean'\n",
    "}).rename(columns={\n",
    "    'Monetary': 'Avg_Spend',\n",
    "    'Frequency': 'Avg_Orders',\n",
    "    'Recency': 'Avg_Recency_Days'\n",
    "}).reset_index()\n",
    "\n",
    "behavior_summary"
   ]
  },
  {
   "cell_type": "code",
   "execution_count": null,
   "id": "ef222575",
   "metadata": {},
   "outputs": [],
   "source": [
    "plt.figure(figsize=(8,5))\n",
    "sns.countplot(data=rfm_with_spend, x='CustomerType', order=['Retail','Wholesaler'])\n",
    "plt.title(\"Retail vs Wholesaler Count\")\n",
    "plt.ylabel(\"Number of Customers\")\n",
    "plt.show()"
   ]
  },
  {
   "cell_type": "code",
   "execution_count": null,
   "id": "4b1642b7",
   "metadata": {},
   "outputs": [],
   "source": [
    "output_dir = Path(\"../data/processed\")\n",
    "output_dir.mkdir(exist_ok=True)\n",
    "\n",
    "segment_summary.to_csv(output_dir / \"phase4_segment_summary.csv\", index=False)\n",
    "rfm_with_spend.to_csv(output_dir / \"phase4_rfm_with_spend.csv\", index=False)\n",
    "\n",
    "print(\"Phase 4 outputs saved in outputs/ directory.\")"
   ]
  }
 ],
 "metadata": {
  "kernelspec": {
   "display_name": "venv (3.13.7)",
   "language": "python",
   "name": "python3"
  },
  "language_info": {
   "codemirror_mode": {
    "name": "ipython",
    "version": 3
   },
   "file_extension": ".py",
   "mimetype": "text/x-python",
   "name": "python",
   "nbconvert_exporter": "python",
   "pygments_lexer": "ipython3",
   "version": "3.13.7"
  }
 },
 "nbformat": 4,
 "nbformat_minor": 5
}
