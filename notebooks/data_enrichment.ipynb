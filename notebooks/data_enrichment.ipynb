{
 "cells": [
  {
   "cell_type": "code",
   "execution_count": null,
   "id": "a52bf187",
   "metadata": {},
   "outputs": [],
   "source": [
    "\"\"\"\n",
    "\n",
    "# ITS 2122 - Phase 5: Data Enrichment  \n",
    "**Author:** Nethranjali Jayasanki  \n",
    "**Date:** 2025-08-26  \n",
    "**Purpose:** Enhance the Online Retail II dataset by integrating external data sources through API calls for enriched insights.\n",
    "\n",
    "## Overview\n",
    "This notebook focuses on enriching the cleaned and analyzed dataset by:\n",
    "- Integrating external currency conversion data via a free API (e.g., ExchangeRate-API or Open Exchange Rates)  \n",
    "- Converting top 100 transactions (by TotalPrice) into USD and EUR  \n",
    "- Adding two new fields: `TotalPrice_USD` and `TotalPrice_EUR`  \n",
    "- Demonstrating the business value of enrichment for tasks such as:\n",
    "  - Financial reporting to international stakeholders  \n",
    "  - Regional pricing and strategy development  \n",
    "  - Comparative analysis across currencies\n",
    "\n",
    "  \"\"\"\n"
   ]
  },
  {
   "cell_type": "code",
   "execution_count": null,
   "id": "e8252e65",
   "metadata": {},
   "outputs": [],
   "source": [
    "import pandas as pd\n",
    "import requests\n",
    "from pathlib import Path\n",
    "\n",
    "# Load cleaned dataset (Phase 1)\n",
    "DATA_PATH = Path(\"../data/processed/online_retail_clean_phase1.csv\")\n",
    "if not DATA_PATH.exists():\n",
    "    raise FileNotFoundError(f\"{DATA_PATH} not found. Run Phase 1 first.\")\n",
    "\n",
    "df = pd.read_csv(DATA_PATH)\n",
    "\n",
    "# Preview\n",
    "print(\"Dataset shape:\", df.shape)\n",
    "df.head()"
   ]
  },
  {
   "cell_type": "code",
   "execution_count": null,
   "id": "3c4ad46a",
   "metadata": {},
   "outputs": [],
   "source": [
    "# Calculate top 100 by revenue (TotalPrice)\n",
    "df['TotalPrice'] = df['Quantity'] * df['UnitPrice']\n",
    "top_100 = df.sort_values(by='TotalPrice', ascending=False).head(100).copy()\n",
    "\n",
    "top_100.head()"
   ]
  },
  {
   "cell_type": "code",
   "execution_count": null,
   "id": "78f19448",
   "metadata": {},
   "outputs": [],
   "source": [
    "# API URL for GBP base currency\n",
    "api_url = \"https://api.exchangerate-api.com/v4/latest/GBP\"\n",
    "\n",
    "response = requests.get(api_url)\n",
    "if response.status_code != 200:\n",
    "    raise Exception(\"Failed to fetch exchange rates\")\n",
    "\n",
    "rates = response.json()['rates']\n",
    "\n",
    "# Get USD and EUR rates\n",
    "gbp_to_usd = rates['USD']\n",
    "gbp_to_eur = rates['EUR']\n",
    "\n",
    "print(f\"GBP → USD: {gbp_to_usd}\")\n",
    "print(f\"GBP → EUR: {gbp_to_eur}\")"
   ]
  },
  {
   "cell_type": "code",
   "execution_count": null,
   "id": "e8aa957b",
   "metadata": {},
   "outputs": [],
   "source": [
    "# Add new columns for converted prices\n",
    "top_100['TotalPrice_USD'] = top_100['TotalPrice'] * gbp_to_usd\n",
    "top_100['TotalPrice_EUR'] = top_100['TotalPrice'] * gbp_to_eur\n",
    "\n",
    "top_100[['InvoiceNo','TotalPrice','TotalPrice_USD','TotalPrice_EUR']].head()"
   ]
  },
  {
   "cell_type": "code",
   "execution_count": null,
   "id": "a61b1e7a",
   "metadata": {},
   "outputs": [],
   "source": [
    "OUTPUT_DIR = Path(\"outputs\")\n",
    "OUTPUT_DIR.mkdir(exist_ok=True)\n",
    "\n",
    "top_100.to_csv(OUTPUT_DIR / \"phase5_top100_converted.csv\", index=False)\n",
    "print(\"Phase 5 enriched data saved to outputs/phase5_top100_converted.csv\")"
   ]
  },
  {
   "cell_type": "code",
   "execution_count": null,
   "id": "8fb7ae93",
   "metadata": {},
   "outputs": [],
   "source": [
    "import matplotlib.pyplot as plt\n",
    "import seaborn as sns\n",
    "\n",
    "plt.figure(figsize=(10,6))\n",
    "sns.barplot(data=top_100.head(20), x='TotalPrice_USD', y='InvoiceNo')\n",
    "plt.title(\"Top 20 Transactions in USD\")\n",
    "plt.xlabel(\"Value in USD\")\n",
    "plt.ylabel(\"Invoice No\")\n",
    "plt.show()"
   ]
  }
 ],
 "metadata": {
  "kernelspec": {
   "display_name": "Python 3",
   "language": "python",
   "name": "python3"
  },
  "language_info": {
   "codemirror_mode": {
    "name": "ipython",
    "version": 3
   },
   "file_extension": ".py",
   "mimetype": "text/x-python",
   "name": "python",
   "nbconvert_exporter": "python",
   "pygments_lexer": "ipython3",
   "version": "3.12.4"
  }
 },
 "nbformat": 4,
 "nbformat_minor": 5
}
