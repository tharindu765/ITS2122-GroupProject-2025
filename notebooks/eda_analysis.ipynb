{
 "cells": [
  {
   "cell_type": "code",
   "execution_count": null,
   "id": "ba0bdb7e",
   "metadata": {},
   "outputs": [],
   "source": [
    "\"\"\"\n",
    "# ITS 2122 - Phase 2: Exploratory Data Analysis (EDA) & Insight Generation\n",
    "**Author:** Kaveesha Rukshan\n",
    "**Date:** 2025-08-17  \n",
    "**Purpose:** Explore and analyze the cleaned Online Retail II dataset to uncover patterns, trends, and insights that support business decisions.\n",
    "\n",
    "## Overview\n",
    "This notebook performs exploratory data analysis (EDA) tasks including:\n",
    "- Temporal analysis: sales trends over months, days of the week, and hours of the day\n",
    "- Geographic analysis: revenue contribution by country\n",
    "- Product performance analysis: top products by quantity sold and total revenue\n",
    "- Generating visualizations and insights to inform marketing, inventory, and operational strategies\n",
    "\"\"\""
   ]
  },
  {
   "cell_type": "code",
   "execution_count": null,
   "id": "d3788c5b",
   "metadata": {},
   "outputs": [],
   "source": [
    "# ---------------------------------------------------------\n",
    "# Cell 1: Imports and basic setup\n",
    "# ---------------------------------------------------------\n",
    "import pandas as pd\n",
    "import numpy as np\n",
    "import matplotlib.pyplot as plt\n",
    "import seaborn as sns\n",
    "import warnings\n",
    "warnings.filterwarnings('ignore')\n",
    "\n",
    "# Plot style for all graphs\n",
    "sns.set(style=\"whitegrid\")\n",
    "\n",
    "print(\"Libraries loaded successfully.\")"
   ]
  },
  {
   "cell_type": "code",
   "execution_count": null,
   "id": "74a967c9",
   "metadata": {},
   "outputs": [],
   "source": [
    "# ---------------------------------------------------------\n",
    "# Cell 2: Load the cleaned dataset\n",
    "# ---------------------------------------------------------\n",
    "\n",
    "# CSV file\n",
    "df = pd.read_csv('../data/processed/online_retail_clean_phase1.csv')\n",
    "\n",
    "# Quick look at the data\n",
    "df.head()"
   ]
  },
  {
   "cell_type": "code",
   "execution_count": null,
   "id": "a798b0b1",
   "metadata": {},
   "outputs": [],
   "source": [
    "# ---------------------------------------------------------\n",
    "# Cell 3: Basic dataset info\n",
    "# ---------------------------------------------------------\n",
    "df.info()"
   ]
  },
  {
   "cell_type": "code",
   "execution_count": null,
   "id": "d835f6fb",
   "metadata": {},
   "outputs": [],
   "source": [
    "# ---------------------------------------------------------\n",
    "# Cell 4: Summary statistics\n",
    "# ---------------------------------------------------------\n",
    "df.describe(include='all')"
   ]
  },
  {
   "cell_type": "code",
   "execution_count": null,
   "id": "8a077abd",
   "metadata": {},
   "outputs": [],
   "source": [
    "# ---------------------------------------------------------\n",
    "# Cell 5: Sales distribution plots\n",
    "# ---------------------------------------------------------\n",
    "\n",
    "# Plot the distribution of Quantity - shows how many items were sold per transaction\n",
    "plt.figure(figsize=(12,5))\n",
    "sns.histplot(df['Quantity'], bins=50, kde=False)  # bins=50 divides the data into 50 intervals\n",
    "plt.title(\"Distribution of Quantity\")\n",
    "plt.show()\n",
    "\n",
    "# Plot the distribution of UnitPrice - shows the range and frequency of item prices\n",
    "plt.figure(figsize=(12,5))\n",
    "sns.histplot(df['UnitPrice'], bins=50, kde=False)\n",
    "plt.title(\"Distribution of Unit Price\")\n",
    "plt.show()\n",
    "\n",
    "# Plot the distribution of TotalPrice - shows the revenue per transaction (Quantity * UnitPrice)\n",
    "plt.figure(figsize=(12,5))\n",
    "sns.histplot(df['TotalPrice'], bins=50, kde=False)\n",
    "plt.title(\"Distribution of Total Price (Revenue per transaction)\")\n",
    "plt.show()\n"
   ]
  },
  {
   "cell_type": "code",
   "execution_count": null,
   "id": "1c8fd0c8",
   "metadata": {},
   "outputs": [],
   "source": [
    "# ---------------------------------------------------------\n",
    "# Cell 6: Time-based analysis\n",
    "# ---------------------------------------------------------\n",
    "\n",
    "# Group data by Year and Month to calculate total monthly sales revenue\n",
    "monthly_sales = df.groupby(['Year', 'Month'])['TotalPrice'].sum().reset_index()\n",
    "\n",
    "# Plot monthly sales trends for each year to observe growth patterns and seasonality\n",
    "plt.figure(figsize=(12,5))\n",
    "sns.lineplot(data=monthly_sales, x='Month', y='TotalPrice', hue='Year', marker='o')\n",
    "plt.title(\"Monthly Sales Trend\")\n",
    "plt.show()\n",
    "\n",
    "# Group sales by day of the week to identify which days have the highest revenue\n",
    "plt.figure(figsize=(12,5))\n",
    "sns.barplot(\n",
    "    data=df.groupby('DayOfWeek')['TotalPrice'].sum().reset_index(),\n",
    "    x='DayOfWeek', \n",
    "    y='TotalPrice',\n",
    "    order=['Monday','Tuesday','Wednesday','Thursday','Friday','Saturday','Sunday']  # Keep logical day order\n",
    ")\n",
    "plt.title(\"Sales by Day of Week\")\n",
    "plt.show()\n"
   ]
  },
  {
   "cell_type": "code",
   "execution_count": null,
   "id": "c90ecb9f",
   "metadata": {},
   "outputs": [],
   "source": [
    "# ---------------------------------------------------------\n",
    "# Cell 7: Top customers\n",
    "# ---------------------------------------------------------\n",
    "\n",
    "# Group sales by CustomerID and calculate total revenue per customer\n",
    "# Sort the customers by revenue in descending order and select the top 10\n",
    "top_customers = df.groupby('CustomerID')['TotalPrice'].sum().sort_values(ascending=False).head(10)\n",
    "\n",
    "# Plot a bar chart of the top 10 customers by revenue\n",
    "plt.figure(figsize=(12,5))\n",
    "sns.barplot(x=top_customers.index.astype(str), y=top_customers.values)\n",
    "plt.title(\"Top 10 Customers by Revenue\")\n",
    "plt.xlabel(\"Customer ID\")\n",
    "plt.ylabel(\"Total Revenue\")\n",
    "plt.xticks(rotation=45)  # Rotate x-axis labels for better readability\n",
    "plt.show()\n"
   ]
  },
  {
   "cell_type": "code",
   "execution_count": null,
   "id": "777eb85c",
   "metadata": {},
   "outputs": [],
   "source": [
    "# ---------------------------------------------------------\n",
    "# Cell 8: Top products\n",
    "# ---------------------------------------------------------\n",
    "\n",
    "# Group sales by product description and calculate total revenue per product\n",
    "# Sort products by revenue in descending order and select the top 10\n",
    "top_products = df.groupby('Description')['TotalPrice'].sum().sort_values(ascending=False).head(10)\n",
    "\n",
    "# Plot a horizontal bar chart of the top 10 products by revenue\n",
    "plt.figure(figsize=(12,5))\n",
    "sns.barplot(x=top_products.values, y=top_products.index)\n",
    "plt.title(\"Top 10 Products by Revenue\")\n",
    "plt.xlabel(\"Total Revenue\")\n",
    "plt.ylabel(\"Product Description\")\n",
    "plt.show()\n"
   ]
  },
  {
   "cell_type": "code",
   "execution_count": null,
   "id": "024c8050",
   "metadata": {},
   "outputs": [],
   "source": [
    "# ---------------------------------------------------------\n",
    "# Cell 9: Correlation heatmap\n",
    "# ---------------------------------------------------------\n",
    "\n",
    "# Plot a heatmap to examine the correlation between key numerical features\n",
    "# Features included:\n",
    "# - Quantity   : Number of items sold per transaction\n",
    "# - UnitPrice  : Price of a single item\n",
    "# - TotalPrice : Revenue per transaction (Quantity * UnitPrice)\n",
    "\n",
    "plt.figure(figsize=(8,6))\n",
    "\n",
    "# Compute correlation matrix and visualize it with a heatmap\n",
    "sns.heatmap(\n",
    "    df[['Quantity', 'UnitPrice', 'TotalPrice']].corr(),  # Correlation coefficients\n",
    "    annot=True,      # Show numeric correlation values inside the cells\n",
    "    cmap='coolwarm'  # Color scheme for highlighting positive vs. negative correlation\n",
    ")\n",
    "\n",
    "plt.title(\"Correlation Between Numerical Features\")\n",
    "plt.show()\n"
   ]
  },
  {
   "cell_type": "code",
   "execution_count": null,
   "id": "e75474af",
   "metadata": {},
   "outputs": [],
   "source": [
    "# ---------------------------------------------------------\n",
    "# Cell 10: Save outputs for presentation\n",
    "# ---------------------------------------------------------\n",
    "\n",
    "# Save the monthly sales trend data to a CSV file for use in reports/presentations\n",
    "monthly_sales.to_csv('../reports/figures/monthly_sales.csv', index=False)\n",
    "\n",
    "# Save the top customers data (by revenue) to a CSV file\n",
    "top_customers.to_csv('../reports/figures/top_customers.csv')\n",
    "\n",
    "# Save the top products data (by revenue) to a CSV file\n",
    "top_products.to_csv('../reports/figures/top_products.csv')\n",
    "\n",
    "print(\"EDA outputs saved.\")\n"
   ]
  }
 ],
 "metadata": {
  "kernelspec": {
   "display_name": "venv",
   "language": "python",
   "name": "python3"
  },
  "language_info": {
   "codemirror_mode": {
    "name": "ipython",
    "version": 3
   },
   "file_extension": ".py",
   "mimetype": "text/x-python",
   "name": "python",
   "nbconvert_exporter": "python",
   "pygments_lexer": "ipython3",
   "version": "3.13.1"
  }
 },
 "nbformat": 4,
 "nbformat_minor": 5
}
