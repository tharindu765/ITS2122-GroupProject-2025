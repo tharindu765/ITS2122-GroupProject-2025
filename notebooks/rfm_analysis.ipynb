{
 "cells": [
  {
   "cell_type": "code",
   "execution_count": null,
   "id": "b3c74b94",
   "metadata": {},
   "outputs": [],
   "source": [
    "\"\"\" \n",
    "# ITS 2122 - Phase 3: Advanced Analytics (RFM Customer Segmentation)\n",
    "**Author:** Sachintha Keshan  \n",
    "**Date:** 2025-08-19  \n",
    "**Purpose:** Implement the RFM (Recency, Frequency, Monetary) model to segment customers based on purchasing behavior, enabling data-driven marketing strategies.\n",
    "\n",
    "## Overview\n",
    "This notebook moves beyond descriptive analysis and focuses on customer segmentation using the RFM model:\n",
    "- Calculate RFM metrics: Recency, Frequency, and Monetary values for each customer\n",
    "- Assign RFM scores using quintile-based ranking\n",
    "- Combine scores to generate RFM segments\n",
    "- Map segments to descriptive categories (e.g., Champions, At-Risk, Loyal Customers)\n",
    "- Provide insights for targeted marketing and customer retention strategies\n",
    "\"\"\""
   ]
  },
  {
   "cell_type": "code",
   "execution_count": null,
   "id": "6c119f98",
   "metadata": {},
   "outputs": [],
   "source": [
    "import pandas as pd\n",
    "import matplotlib.pyplot as plt\n",
    "import seaborn as sns\n",
    "from pathlib import Path\n",
    "\n",
    "# Better chart style\n",
    "sns.set(style=\"whitegrid\")\n",
    "\n",
    "# Load the cleaned dataset (only rows with CustomerID)\n",
    "df = pd.read_csv('../data/processed/online_retail_clean_with_customerids.csv', encoding='ISO-8859-1')\n",
    "\n",
    "# Convert dates\n",
    "df['InvoiceDate'] = pd.to_datetime(df['InvoiceDate'], errors='coerce')\n",
    "\n",
    "print(\"Dataset shape:\", df.shape)\n",
    "df.head()"
   ]
  },
  {
   "cell_type": "code",
   "execution_count": null,
   "id": "7e5944ee",
   "metadata": {},
   "outputs": [],
   "source": [
    "# Snapshot date = one day after the last invoice\n",
    "snapshot_date = df['InvoiceDate'].max() + pd.Timedelta(days=1)\n",
    "print(\"Snapshot Date:\", snapshot_date)"
   ]
  },
  {
   "cell_type": "code",
   "execution_count": null,
   "id": "9407e8f7",
   "metadata": {},
   "outputs": [],
   "source": [
    "rfm = df.groupby('CustomerID').agg({\n",
    "    'InvoiceDate': lambda x: (snapshot_date - x.max()).days,   # Recency\n",
    "    'InvoiceNo': 'nunique',                                   # Frequency\n",
    "    'TotalPrice': 'sum'                                       # Monetary\n",
    "}).reset_index()\n",
    "\n",
    "rfm.rename(columns={\n",
    "    'InvoiceDate': 'Recency',\n",
    "    'InvoiceNo': 'Frequency',\n",
    "    'TotalPrice': 'Monetary'\n",
    "}, inplace=True)\n",
    "\n",
    "rfm.head()"
   ]
  },
  {
   "cell_type": "code",
   "execution_count": null,
   "id": "503e216f",
   "metadata": {},
   "outputs": [],
   "source": [
    "\n",
    "# Create TotalPrice\n",
    "df['TotalPrice'] = df['Quantity'] * df['UnitPrice']\n",
    "\n",
    "#  Drop rows with missing CustomerID (important for grouping)\n",
    "df = df.dropna(subset=['CustomerID'])\n",
    "\n",
    "#  Define snapshot date (one day after last invoice date)\n",
    "snapshot_date = df['InvoiceDate'].max() + pd.Timedelta(days=1)\n",
    "\n",
    "#  Calculate RFM metrics per customer\n",
    "rfm = df.groupby('CustomerID').agg({\n",
    "    'InvoiceDate': lambda x: (snapshot_date - x.max()).days,  # Recency\n",
    "    'InvoiceNo': 'nunique',                                   # Frequency\n",
    "    'TotalPrice': 'sum'                                       # Monetary\n",
    "}).reset_index()\n",
    "\n",
    "rfm.columns = ['CustomerID', 'Recency', 'Frequency', 'Monetary']\n",
    "\n",
    "#  Remove NaN values (if any remain after grouping)\n",
    "print(\"Missing values before dropping:\\n\", rfm.isna().sum())\n",
    "rfm = rfm.dropna(subset=['Recency', 'Frequency', 'Monetary'])\n",
    "print(\"After dropping NaN:\", rfm.shape)\n",
    "\n",
    "#  Create R, F, M scores using quintiles\n",
    "rfm['R_Score'] = pd.qcut(rfm['Recency'], 5, labels=[5,4,3,2,1])  # lower = better\n",
    "rfm['F_Score'] = pd.qcut(rfm['Frequency'].rank(method='first'), 5, labels=[1,2,3,4,5])\n",
    "rfm['M_Score'] = pd.qcut(rfm['Monetary'], 5, labels=[1,2,3,4,5])\n",
    "\n",
    "#  Handle missing categories (in case qcut fails for small data)\n",
    "for col in ['R_Score', 'F_Score', 'M_Score']:\n",
    "    rfm[col] = rfm[col].cat.add_categories([0])\n",
    "rfm[['R_Score','F_Score','M_Score']] = rfm[['R_Score','F_Score','M_Score']].fillna(0)\n",
    "\n",
    "#  Create combined RFM Segment and RFM Score\n",
    "rfm['RFM_Segment'] = (\n",
    "    rfm['R_Score'].astype(str) +\n",
    "    rfm['F_Score'].astype(str) +\n",
    "    rfm['M_Score'].astype(str)\n",
    ")\n",
    "\n",
    "rfm['RFM_Score'] = (\n",
    "    rfm[['R_Score','F_Score','M_Score']].astype(int).sum(axis=1)\n",
    ")\n",
    "\n",
    "#  Preview\n",
    "print(rfm.head(10))"
   ]
  },
  {
   "cell_type": "code",
   "execution_count": null,
   "id": "877f33d1",
   "metadata": {},
   "outputs": [],
   "source": [
    "def map_segment(row):\n",
    "    \"\"\"Convert RFM numeric scores to business categories.\"\"\"\n",
    "    if row['R_Score'] >= 4 and row['F_Score'] >= 4 and row['M_Score'] >= 4:\n",
    "        return 'Champions'\n",
    "    elif row['R_Score'] >= 3 and row['F_Score'] >= 3:\n",
    "        return 'Loyal Customers'\n",
    "    elif row['R_Score'] >= 4 and row['F_Score'] <= 2:\n",
    "        return 'New Customers'\n",
    "    elif row['R_Score'] <= 2 and row['F_Score'] >= 4:\n",
    "        return 'At-Risk Customers'\n",
    "    else:\n",
    "        return 'Others'\n",
    "\n",
    "rfm['Segment'] = rfm.apply(map_segment, axis=1)\n",
    "rfm['Segment'].value_counts()"
   ]
  },
  {
   "cell_type": "code",
   "execution_count": null,
   "id": "3aaada8c",
   "metadata": {},
   "outputs": [],
   "source": [
    "plt.figure(figsize=(10,6))\n",
    "sns.countplot(data=rfm, x='Segment', order=rfm['Segment'].value_counts().index)\n",
    "plt.title(\"Customer Segments (RFM)\")\n",
    "plt.xlabel(\"Segment\")\n",
    "plt.ylabel(\"Number of Customers\")\n",
    "plt.show()"
   ]
  },
  {
   "cell_type": "code",
   "execution_count": null,
   "id": "239b601c",
   "metadata": {},
   "outputs": [],
   "source": [
    "rfm.to_csv(\"../data/processed/phase3_rfm_segments.csv\", index=False)\n",
    "print(\" RFM segmentation saved \")"
   ]
  }
 ],
 "metadata": {
  "kernelspec": {
   "display_name": "Python 3",
   "language": "python",
   "name": "python3"
  },
  "language_info": {
   "codemirror_mode": {
    "name": "ipython",
    "version": 3
   },
   "file_extension": ".py",
   "mimetype": "text/x-python",
   "name": "python",
   "nbconvert_exporter": "python",
   "pygments_lexer": "ipython3",
   "version": "3.12.3"
  }
 },
 "nbformat": 4,
 "nbformat_minor": 5
}
